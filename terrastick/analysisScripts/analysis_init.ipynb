{
 "cells": [
  {
   "cell_type": "code",
   "execution_count": 58,
   "metadata": {},
   "outputs": [],
   "source": [
    "\n",
    "botconnect_line = 2403\n",
    "file = 'test.log'\n",
    "\n",
    "with open(file, 'r') as f:\n",
    "    lines = f.readlines()\n",
    "\n",
    "pre_bot_lines = lines[:botconnect_line]\n",
    "post_bot_lines = lines[botconnect_line:]\n",
    "# \n",
    "pre_bot_lines = [line for line in pre_bot_lines if \"GAME UPDATE TIME\"  in line]"
   ]
  },
  {
   "cell_type": "code",
   "execution_count": 52,
   "metadata": {},
   "outputs": [
    {
     "data": {
      "text/plain": [
       "<Axes: >"
      ]
     },
     "execution_count": 52,
     "metadata": {},
     "output_type": "execute_result"
    },
    {
     "data": {
      "image/png": "[encoded data removed]",
      "text/plain": [
       "<Figure size 640x480 with 1 Axes>"
      ]
     },
     "metadata": {},
     "output_type": "display_data"
    }
   ],
   "source": [
    "# pre_bot_lines\n",
    "# extract the time from the lines\n",
    "pre_bot_times = [line.split(' ')[-1] for line in pre_bot_lines]\n",
    "# remove the \\n from the end of the time\n",
    "pre_bot_times = [line.split('\\n')[0] for line in pre_bot_times]\n",
    "# pre_bot_times\n",
    "\n",
    "post_bot_times = [line.split(' ')[-1] for line in post_bot_lines]\n",
    "post_bot_times = [line.split('\\n')[0] for line in post_bot_times]\n",
    "\n",
    "import seaborn as sns\n",
    "import matplotlib.pyplot as plt\n",
    "# sns.histplot(pre_bot_times,kde=True)\n",
    "# plt.show()\n",
    "sns.histplot(post_bot_times,kde=True)\n",
    "\n"
   ]
  },
  {
   "cell_type": "code",
   "execution_count": 59,
   "metadata": {},
   "outputs": [
    {
     "data": {
      "text/plain": [
       "2403"
      ]
     },
     "execution_count": 59,
     "metadata": {},
     "output_type": "execute_result"
    }
   ],
   "source": [
    "len(pre_bot_lines)"
   ]
  },
  {
   "cell_type": "code",
   "execution_count": null,
   "metadata": {},
   "outputs": [],
   "source": []
  }
 ],
 "metadata": {
  "kernelspec": {
   "display_name": "Python 3",
   "language": "python",
   "name": "python3"
  },
  "language_info": {
   "codemirror_mode": {
    "name": "ipython",
    "version": 3
   },
   "file_extension": ".py",
   "mimetype": "text/x-python",
   "name": "python",
   "nbconvert_exporter": "python",
   "pygments_lexer": "ipython3",
   "version": "3.11.3"
  },
  "orig_nbformat": 4
 },
 "nbformat": 4,
 "nbformat_minor": 2
}
